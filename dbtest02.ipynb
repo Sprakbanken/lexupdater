{
 "metadata": {
  "language_info": {
   "codemirror_mode": {
    "name": "ipython",
    "version": 3
   },
   "file_extension": ".py",
   "mimetype": "text/x-python",
   "name": "python",
   "nbconvert_exporter": "python",
   "pygments_lexer": "ipython3",
   "version": "3.8.5-final"
  },
  "orig_nbformat": 2,
  "kernelspec": {
   "name": "python38264bit6a6454e4598e4f7ca58aa92794eb5776",
   "display_name": "Python 3.8.2 64-bit",
   "language": "python"
  }
 },
 "nbformat": 4,
 "nbformat_minor": 2,
 "cells": [
  {
   "cell_type": "code",
   "execution_count": 170,
   "metadata": {},
   "outputs": [],
   "source": [
    "import sqlite3\n",
    "import re"
   ]
  },
  {
   "cell_type": "code",
   "execution_count": 171,
   "metadata": {},
   "outputs": [],
   "source": [
    "def regexp(regpat, item):\n",
    "    mypattern = re.compile(regpat)\n",
    "    return mypattern.match(item) is not None"
   ]
  },
  {
   "cell_type": "code",
   "execution_count": 172,
   "metadata": {},
   "outputs": [],
   "source": [
    "def regreplace(pattern, rep, item):\n",
    "    mypattern = re.compile(pattern)\n",
    "    return mypattern.sub(rep, item)"
   ]
  },
  {
   "cell_type": "code",
   "execution_count": 173,
   "metadata": {},
   "outputs": [],
   "source": [
    "sqliteConnection = sqlite3.connect('../backend-db_test.db')\n",
    "sqliteConnection.create_function(\"REGEXP\", 2, regexp)\n",
    "sqliteConnection.create_function(\"REGREPLACE\", 3, regreplace)\n",
    "cursor = sqliteConnection.cursor()"
   ]
  },
  {
   "cell_type": "code",
   "execution_count": 174,
   "metadata": {},
   "outputs": [
    {
     "output_type": "error",
     "ename": "OperationalError",
     "evalue": "database is locked",
     "traceback": [
      "\u001b[0;31m---------------------------------------------------------------------------\u001b[0m",
      "\u001b[0;31mOperationalError\u001b[0m                          Traceback (most recent call last)",
      "\u001b[0;32m<ipython-input-174-0e054123a510>\u001b[0m in \u001b[0;36m<module>\u001b[0;34m\u001b[0m\n\u001b[0;32m----> 1\u001b[0;31m \u001b[0mresults\u001b[0m \u001b[0;34m=\u001b[0m \u001b[0mcursor\u001b[0m\u001b[0;34m.\u001b[0m\u001b[0mexecute\u001b[0m\u001b[0;34m(\u001b[0m\u001b[0;34m\"SELECT * FROM words WHERE wordform REGEXP ?;\"\u001b[0m\u001b[0;34m,\u001b[0m \u001b[0;34m[\u001b[0m\u001b[0;34mr'^(b)arn$'\u001b[0m\u001b[0;34m]\u001b[0m\u001b[0;34m)\u001b[0m\u001b[0;34m\u001b[0m\u001b[0;34m\u001b[0m\u001b[0m\n\u001b[0m",
      "\u001b[0;31mOperationalError\u001b[0m: database is locked"
     ]
    }
   ],
   "source": [
    "results = cursor.execute(\"SELECT * FROM words WHERE wordform REGEXP ?;\", [r'^(b)arn$'])"
   ]
  },
  {
   "cell_type": "code",
   "execution_count": 98,
   "metadata": {
    "tags": []
   },
   "outputs": [
    {
     "output_type": "stream",
     "name": "stdout",
     "text": [
      "(98757, 'barn', 'NN', 'SIN-PLU|IND|NOM|NEU', 'INFL', 'barn', 'NN', '', '', '', 'inflector_no', 'Neutral', 'INFLECTED|BASE', 's13b1-barn', '21|23', '', '')\n",
      "(98758, 'barn', 'NN', '|||NEU', 'LEX', 'barn', 'NN', '', '', '', 'ref_dic', '', '', '', '', '', '')\n"
     ]
    }
   ],
   "source": [
    "for result in results:\n",
    "    print(result)"
   ]
  },
  {
   "cell_type": "code",
   "execution_count": 104,
   "metadata": {},
   "outputs": [
    {
     "output_type": "execute_result",
     "data": {
      "text/plain": [
       "[(792936,)]"
      ]
     },
     "metadata": {},
     "execution_count": 104
    }
   ],
   "source": [
    "cursor.execute(\"SELECT COUNT(*) FROM n_spoken;\").fetchall()"
   ]
  },
  {
   "cell_type": "code",
   "execution_count": 175,
   "metadata": {},
   "outputs": [],
   "source": [
    "def reset_table(table, connection):\n",
    "    cursor = connection.cursor()\n",
    "    whitelist = [\"e_spoken\", \"e_written\", \"sw_spoken\", \"sw_written\", \n",
    "                \"w_spoken\", \"w_written\", \"t_spoken\", \"t_written\", \n",
    "                \"n_spoken\", \"n_written\"]\n",
    "    if not table in whitelist:\n",
    "        raise ValueError(f\"Resetting {table} is not permitted\")\n",
    "    else:\n",
    "        cursor.execute(f\"DELETE FROM {table};\")\n",
    "        cursor.execute(f\"INSERT INTO {table} SELECT * FROM base;\")\n",
    "        connection.commit()"
   ]
  },
  {
   "cell_type": "code",
   "execution_count": 176,
   "metadata": {},
   "outputs": [
    {
     "output_type": "error",
     "ename": "OperationalError",
     "evalue": "database is locked",
     "traceback": [
      "\u001b[0;31m---------------------------------------------------------------------------\u001b[0m",
      "\u001b[0;31mOperationalError\u001b[0m                          Traceback (most recent call last)",
      "\u001b[0;32m<ipython-input-176-889734c5d007>\u001b[0m in \u001b[0;36m<module>\u001b[0;34m\u001b[0m\n\u001b[0;32m----> 1\u001b[0;31m \u001b[0mreset_table\u001b[0m\u001b[0;34m(\u001b[0m\u001b[0;34m'w_spoken'\u001b[0m\u001b[0;34m,\u001b[0m \u001b[0msqliteConnection\u001b[0m\u001b[0;34m)\u001b[0m\u001b[0;34m\u001b[0m\u001b[0;34m\u001b[0m\u001b[0m\n\u001b[0m",
      "\u001b[0;32m<ipython-input-175-ad59db41b631>\u001b[0m in \u001b[0;36mreset_table\u001b[0;34m(table, connection)\u001b[0m\n\u001b[1;32m      7\u001b[0m         \u001b[0;32mraise\u001b[0m \u001b[0mValueError\u001b[0m\u001b[0;34m(\u001b[0m\u001b[0;34mf\"Resetting {table} is not permitted\"\u001b[0m\u001b[0;34m)\u001b[0m\u001b[0;34m\u001b[0m\u001b[0;34m\u001b[0m\u001b[0m\n\u001b[1;32m      8\u001b[0m     \u001b[0;32melse\u001b[0m\u001b[0;34m:\u001b[0m\u001b[0;34m\u001b[0m\u001b[0;34m\u001b[0m\u001b[0m\n\u001b[0;32m----> 9\u001b[0;31m         \u001b[0mcursor\u001b[0m\u001b[0;34m.\u001b[0m\u001b[0mexecute\u001b[0m\u001b[0;34m(\u001b[0m\u001b[0;34mf\"DELETE FROM {table};\"\u001b[0m\u001b[0;34m)\u001b[0m\u001b[0;34m\u001b[0m\u001b[0;34m\u001b[0m\u001b[0m\n\u001b[0m\u001b[1;32m     10\u001b[0m         \u001b[0mcursor\u001b[0m\u001b[0;34m.\u001b[0m\u001b[0mexecute\u001b[0m\u001b[0;34m(\u001b[0m\u001b[0;34mf\"INSERT INTO {table} SELECT * FROM base;\"\u001b[0m\u001b[0;34m)\u001b[0m\u001b[0;34m\u001b[0m\u001b[0;34m\u001b[0m\u001b[0m\n\u001b[1;32m     11\u001b[0m         \u001b[0mconnection\u001b[0m\u001b[0;34m.\u001b[0m\u001b[0mcommit\u001b[0m\u001b[0;34m(\u001b[0m\u001b[0;34m)\u001b[0m\u001b[0;34m\u001b[0m\u001b[0;34m\u001b[0m\u001b[0m\n",
      "\u001b[0;31mOperationalError\u001b[0m: database is locked"
     ]
    }
   ],
   "source": [
    "reset_table('w_spoken', sqliteConnection)"
   ]
  },
  {
   "cell_type": "code",
   "execution_count": 157,
   "metadata": {},
   "outputs": [
    {
     "output_type": "execute_result",
     "data": {
      "text/plain": [
       "<sqlite3.Cursor at 0x7fba4ad952d0>"
      ]
     },
     "metadata": {},
     "execution_count": 157
    }
   ],
   "source": [
    "cursor.execute(\"UPDATE w_written SET nofabet = REGREPLACE(?,?, nofabet);\", (r'R N', r'\\bRN\\b'))"
   ]
  },
  {
   "cell_type": "code",
   "execution_count": 158,
   "metadata": {},
   "outputs": [],
   "source": [
    "results2 = cursor.execute(\"SELECT w.word_id, w.wordform, p.nofabet FROM words w LEFT JOIN w_written p ON w.word_id = p.word_id WHERE wordform = ?;\", ('barn',)).fetchall()"
   ]
  },
  {
   "cell_type": "code",
   "execution_count": 159,
   "metadata": {
    "tags": []
   },
   "outputs": [
    {
     "output_type": "stream",
     "name": "stdout",
     "text": [
      "[(98757, 'barn', '\\\\1(\\x08)\\x08RN\\x08(\\x08)\\\\1'), (98758, 'barn', '\\\\1(\\x08)\\x08RN\\x08(\\x08)\\\\1')]\n"
     ]
    }
   ],
   "source": [
    "print(results2)"
   ]
  },
  {
   "cell_type": "code",
   "execution_count": 165,
   "metadata": {},
   "outputs": [
    {
     "output_type": "execute_result",
     "data": {
      "text/plain": [
       "'B AA1 R N A'"
      ]
     },
     "metadata": {},
     "execution_count": 165
    }
   ],
   "source": [
    "regreplace(r'\\bRN\\b', r'R N', 'B AA1 RN A')"
   ]
  },
  {
   "cell_type": "code",
   "execution_count": 169,
   "metadata": {},
   "outputs": [],
   "source": [
    "sqliteConnection.close()"
   ]
  },
  {
   "cell_type": "code",
   "execution_count": null,
   "metadata": {},
   "outputs": [],
   "source": []
  }
 ]
}