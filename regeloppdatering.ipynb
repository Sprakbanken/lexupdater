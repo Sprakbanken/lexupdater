{
 "cells": [
  {
   "cell_type": "code",
   "execution_count": 1,
   "id": "0df8939d",
   "metadata": {},
   "outputs": [],
   "source": [
    "import re\n",
    "import sqlite3 \n",
    "\n",
    "from schema import Schema\n",
    "\n",
    "from lexupdater.db_handler import DatabaseUpdater, ruleset_schema, INSERT_STMT, UPDATE_QUERY\n",
    "from lexupdater.dialect_updater import parse_constraints, parse_exemptions, map_rule_exemptions\n"
   ]
  },
  {
   "cell_type": "code",
   "execution_count": 2,
   "id": "67e8e729",
   "metadata": {},
   "outputs": [
    {
     "data": {
      "text/plain": [
       "'UPDATE {dialect} SET nofabet = REGREPLACE(?,?,nofabet) {where_word_in_stmt};'"
      ]
     },
     "execution_count": 2,
     "metadata": {},
     "output_type": "execute_result"
    }
   ],
   "source": [
    "UPDATE_QUERY"
   ]
  },
  {
   "cell_type": "code",
   "execution_count": 3,
   "id": "c68be576",
   "metadata": {},
   "outputs": [],
   "source": [
    "SELECT_QUERY = (\n",
    "        \"SELECT wordform FROM {table_name} \"\n",
    "        \"WHERE REGEXP(?,nofabet) \"\n",
    "        \"{where_word_in_stmt};\"\n",
    "    )"
   ]
  },
  {
   "cell_type": "code",
   "execution_count": 10,
   "id": "634e4fe0",
   "metadata": {},
   "outputs": [],
   "source": [
    "# Det bør skrives ut lister med ord som matcher søkemønstrene\n",
    "# i regelsettene i regelfilene, én liste per dialekt.\n",
    "\n",
    "def construct_select_queries(dialects, filter_string):\n",
    "    \"\"\"Create a select query to retrieve all entries covered by the rule pattern.\"\"\"\n",
    "    for dialect in dialects: \n",
    "        query = SELECT_QUERY.format(table_name=dialect, where_word_in_stmt=filter_string)\n",
    "        yield query\n",
    "        \n",
    "def parse_rules(rulesets, exemptions): \n",
    "    \"\"\"Parse the ruleset, fetch constraints and exemptions. \n",
    "    \n",
    "    Basically a copy-pasta of construct_update_queries, \n",
    "    so make sure to refactor that later. \n",
    "    \"\"\"\n",
    "    rule_exemptions = map_rule_exemptions(exemptions)\n",
    "\n",
    "    for ruleset in rulesets:\n",
    "        rule_name = ruleset[\"name\"]\n",
    "        rule_dialects = ruleset[\"areas\"]\n",
    "        if not rule_dialects:\n",
    "            continue\n",
    "\n",
    "        exempt_words = rule_exemptions.get(rule_name, [])\n",
    "        exempt_str = parse_exemptions(exempt_words)\n",
    "\n",
    "        for rule in ruleset[\"rules\"]:\n",
    "\n",
    "            constraints = rule[\"constraints\"]\n",
    "            is_constrained = bool(constraints)\n",
    "            constraint_str, constraint_values = parse_constraints(\n",
    "                constraints)\n",
    "\n",
    "            values = [rule[\"pattern\"], rule[\"repl\"]]\n",
    "            values += constraint_values + exempt_words\n",
    "\n",
    "            if not is_constrained and not exempt_words:\n",
    "                where_word_in_stmt = \"\"\n",
    "            else:\n",
    "                where_word_in_stmt = WHERE_WORD_IN_STMT.format(\n",
    "                    word_table=self._word_table,\n",
    "                    constraints=constraint_str,\n",
    "                    exemptions=(\n",
    "                        f\" AND {exempt_str}\"\n",
    "                        if is_constrained and exempt_str\n",
    "                        else exempt_str\n",
    "                    )\n",
    "                )\n",
    "\n",
    "            yield construct_select_queries(rule_dialects, where_word_in_stmt)"
   ]
  },
  {
   "cell_type": "code",
   "execution_count": 11,
   "id": "b2f1a3fc",
   "metadata": {},
   "outputs": [],
   "source": [
    "def create_new_ruleset(ruleset_name: str, rule_dialects: list, rule_patterns: list): \n",
    "    return ruleset_schema.validate({\n",
    "        \"name\": ruleset_name, \n",
    "        \"areas\": rule_dialects,\n",
    "        \"rules\": rule_patterns,\n",
    "    })\n",
    "\n",
    "\n",
    "def create_new_rule_pattern(rule_pattern: str, replacement: str, constraints: list): \n",
    "    return {\n",
    "        'pattern': rule_pattern, \n",
    "        'repl': replacement, \n",
    "        'constraints': Schema([{\n",
    "            'field': str, \n",
    "            'pattern': str, \n",
    "            'is_regex': bool\n",
    "        }]).validate(constraints)\n",
    "    }"
   ]
  },
  {
   "cell_type": "markdown",
   "id": "cc37f510",
   "metadata": {},
   "source": [
    "## Eksempel \n",
    "Tatt fra feilsøkingsdokumentet om [/M RNX0/-sekvensen](https://docs.google.com/document/d/1zEX49CwOC8oo8oaVLAB1s3L1wM3vFoTp7vkaRN1v3n4/edit?usp=sharing) (takk til Marie for et illustrativt eksempel!): \n",
    "\n",
    "    Vi må \n",
    "    * Endre den feilaktige trankripsjonen /M RNX0 (AX0)/ til /M AX0 RN (AX0)/.\n",
    "    * Legge til /M AX0 RN (AX0)/-varianten for ordene som kun har /M R AX0 N (AX0)/-varianten.\n",
    "    * Endre den feilaktige transkripsjonen /M AX0 RNX0 (AX0)/ til /M AX0 RN (AX0)/. \n",
    "\n",
    "---\n",
    "TIPS:\n",
    "Jeg anbefaler å bruke regex101.com til selve utviklingen av regex-mønstrene, og å tikke av `Flavor` \"Python2.7\" og `Function` \"substitution\" i menyen til venstre. F.eks. https://regex101.com/r/Dyhrob/1"
   ]
  },
  {
   "cell_type": "code",
   "execution_count": 12,
   "id": "8f137a25",
   "metadata": {},
   "outputs": [],
   "source": [
    "# Endre den feilaktige trankripsjonen /M RNX0 (AX0)/ til /M AX0 RN (AX0)/\n",
    "correction_rule = create_new_rule_pattern(\n",
    "    rule_pattern=r\"\\bM RNX0( AX0|\\b)?\", \n",
    "    replacement=r\"M AX0 RN\\1\", \n",
    "    constraints=[]\n",
    ")\n",
    "\n",
    "# Endre den feilaktige transkripsjonen /M AX0 RNX0 (AX0)/ til /M AX0 RN (AX0)/\n",
    "correction_rule2 = create_new_rule_pattern(\n",
    "    rule_pattern=r\"\\bM AX0 RNX0( AX0|\\b)?\",\n",
    "    replacement=r\"M AX0 RN\\1\",\n",
    "    constraints=[]\n",
    ")\n",
    "\n",
    "#Lag et nytt regel-sett for feilrettinger\n",
    "corrections_ruleset = create_new_ruleset(\n",
    "    ruleset_name=\"corrections\", \n",
    "    rule_dialects=[\"e_spoken\", \"e_written\"],\n",
    "    rule_patterns=[correction_rule, correction_rule2]\n",
    ")\n",
    "\n",
    "\n",
    "# Legge til /M AX0 RN (AX0)/-varianten for ordene som kun har /M R AX0 N (AX0)/-varianten\n",
    "addition_rule = create_new_rule_pattern(\n",
    "    rule_pattern=r\"\\bM R AX0 N( AX0|\\b)?\",\n",
    "    replacement=r\"M AX0 RN\\1\",\n",
    "    constraints=[]\n",
    ")\n",
    "\n",
    "# Lag et nytt regelsett for tillegg \n",
    "additions_ruleset = create_new_ruleset(\n",
    "    ruleset_name=\"additions\", \n",
    "    rule_dialects=[\"e_spoken\", \"e_written\"],\n",
    "    rule_patterns=[addition_rule]\n",
    ")"
   ]
  },
  {
   "cell_type": "code",
   "execution_count": 14,
   "id": "511efd34",
   "metadata": {},
   "outputs": [
    {
     "name": "stdout",
     "output_type": "stream",
     "text": [
      "SELECT wordform FROM e_spoken WHERE REGEXP(?,nofabet) ;\n",
      "SELECT wordform FROM e_written WHERE REGEXP(?,nofabet) ;\n",
      "SELECT wordform FROM e_spoken WHERE REGEXP(?,nofabet) ;\n",
      "SELECT wordform FROM e_written WHERE REGEXP(?,nofabet) ;\n",
      "SELECT wordform FROM e_spoken WHERE REGEXP(?,nofabet) ;\n",
      "SELECT wordform FROM e_written WHERE REGEXP(?,nofabet) ;\n"
     ]
    }
   ],
   "source": [
    "queries = parse_rules([corrections_ruleset, additions_ruleset], [])\n",
    "for query in queries: \n",
    "    for items in query: \n",
    "        print(items)"
   ]
  },
  {
   "cell_type": "code",
   "execution_count": 15,
   "id": "3b9b67b8",
   "metadata": {},
   "outputs": [],
   "source": [
    "# TODO: split up the parse_rules function \n",
    "# TODO: apply queries on the database and look at the results "
   ]
  },
  {
   "cell_type": "code",
   "execution_count": null,
   "id": "9ed0b0ff",
   "metadata": {},
   "outputs": [],
   "source": []
  }
 ],
 "metadata": {
  "kernelspec": {
   "display_name": "Python 3",
   "language": "python",
   "name": "python3"
  },
  "language_info": {
   "codemirror_mode": {
    "name": "ipython",
    "version": 3
   },
   "file_extension": ".py",
   "mimetype": "text/x-python",
   "name": "python",
   "nbconvert_exporter": "python",
   "pygments_lexer": "ipython3",
   "version": "3.7.10"
  }
 },
 "nbformat": 4,
 "nbformat_minor": 5
}
